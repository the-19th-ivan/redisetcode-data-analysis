{
 "cells": [
  {
   "cell_type": "markdown",
   "id": "029b5b45-4158-40b2-8254-9803e26340e8",
   "metadata": {},
   "source": [
    "# Paired T-test\n",
    "This notebook compute for the T-test value of the scores of the students before and after using RediSetCode. It is use to determine the learning gains of the students upon using the application."
   ]
  },
  {
   "cell_type": "code",
   "execution_count": 3,
   "id": "ba5e334e-e7d8-4715-809c-ad95aaf4819d",
   "metadata": {},
   "outputs": [],
   "source": [
    "# Import necessary libraries\n",
    "import numpy as np\n",
    "import pandas as pd\n",
    "import matplotlib.pyplot as plt"
   ]
  },
  {
   "cell_type": "code",
   "execution_count": 25,
   "id": "f48cee06-ac71-4106-a3d2-63dd689a1d80",
   "metadata": {},
   "outputs": [
    {
     "data": {
      "text/html": [
       "<div>\n",
       "<style scoped>\n",
       "    .dataframe tbody tr th:only-of-type {\n",
       "        vertical-align: middle;\n",
       "    }\n",
       "\n",
       "    .dataframe tbody tr th {\n",
       "        vertical-align: top;\n",
       "    }\n",
       "\n",
       "    .dataframe thead th {\n",
       "        text-align: right;\n",
       "    }\n",
       "</style>\n",
       "<table border=\"1\" class=\"dataframe\">\n",
       "  <thead>\n",
       "    <tr style=\"text-align: right;\">\n",
       "      <th></th>\n",
       "      <th>Students</th>\n",
       "      <th>Pre-test</th>\n",
       "      <th>Post-test</th>\n",
       "      <th>Difference</th>\n",
       "    </tr>\n",
       "  </thead>\n",
       "  <tbody>\n",
       "    <tr>\n",
       "      <th>55</th>\n",
       "      <td>56</td>\n",
       "      <td>12</td>\n",
       "      <td>10</td>\n",
       "      <td>-2</td>\n",
       "    </tr>\n",
       "    <tr>\n",
       "      <th>56</th>\n",
       "      <td>57</td>\n",
       "      <td>5</td>\n",
       "      <td>14</td>\n",
       "      <td>9</td>\n",
       "    </tr>\n",
       "    <tr>\n",
       "      <th>57</th>\n",
       "      <td>58</td>\n",
       "      <td>6</td>\n",
       "      <td>14</td>\n",
       "      <td>8</td>\n",
       "    </tr>\n",
       "    <tr>\n",
       "      <th>58</th>\n",
       "      <td>59</td>\n",
       "      <td>4</td>\n",
       "      <td>13</td>\n",
       "      <td>9</td>\n",
       "    </tr>\n",
       "    <tr>\n",
       "      <th>59</th>\n",
       "      <td>60</td>\n",
       "      <td>6</td>\n",
       "      <td>9</td>\n",
       "      <td>3</td>\n",
       "    </tr>\n",
       "  </tbody>\n",
       "</table>\n",
       "</div>"
      ],
      "text/plain": [
       "    Students  Pre-test  Post-test  Difference\n",
       "55        56        12         10          -2\n",
       "56        57         5         14           9\n",
       "57        58         6         14           8\n",
       "58        59         4         13           9\n",
       "59        60         6          9           3"
      ]
     },
     "execution_count": 25,
     "metadata": {},
     "output_type": "execute_result"
    }
   ],
   "source": [
    "# Get the data\n",
    "data = pd.read_csv(\"data/assessment-scores.csv\")\n",
    "\n",
    "data.tail()"
   ]
  },
  {
   "cell_type": "markdown",
   "id": "22b7c42f-d64a-43ed-afde-799420d7512f",
   "metadata": {},
   "source": [
    "## 1. Create Hypothesis\n",
    "**Null**: There is no significant difference between the scores of the students before and after using the application <br>\n",
    "**Alternative**: There is a significant difference between the scores of the students before and after using the application"
   ]
  },
  {
   "cell_type": "markdown",
   "id": "c9a23dcc-b83c-4664-9732-c15de6b5f517",
   "metadata": {},
   "source": [
    "## 2. Compute for T-value"
   ]
  },
  {
   "cell_type": "code",
   "execution_count": 19,
   "id": "eb7b803b-2365-4fa9-bea2-23c08803cc2f",
   "metadata": {},
   "outputs": [
    {
     "data": {
      "text/plain": [
       "13.977093405003538"
      ]
     },
     "execution_count": 19,
     "metadata": {},
     "output_type": "execute_result"
    }
   ],
   "source": [
    "# Identify the number of cases\n",
    "n = len(data)\n",
    "\n",
    "# Compute the degrees of freedom\n",
    "df = n - 1\n",
    "\n",
    "# Compute the mean difference\n",
    "mean = data[\"Difference\"].mean()\n",
    "\n",
    "# Compute the standard deviation\n",
    "s = data[\"Difference\"].std()\n",
    "\n",
    "# Compute the standard error of the mean\n",
    "se = s / np.sqrt(n)\n",
    "\n",
    "# Compute the T value\n",
    "t = mean / se\n",
    "\n",
    "t"
   ]
  },
  {
   "cell_type": "markdown",
   "id": "5f4e5c93-99c1-4794-a787-ec2b44b78a1a",
   "metadata": {},
   "source": [
    "## 3. Compute Significance Level\n",
    "Refer to this Table: <br>\n",
    "![T table](t-table.png)"
   ]
  },
  {
   "cell_type": "markdown",
   "id": "9ea431b9-1bc7-4c6a-a1e7-a2a8862445bf",
   "metadata": {},
   "source": [
    "***Critical Value = 2.0***"
   ]
  },
  {
   "cell_type": "markdown",
   "id": "f8922809-f9cd-470b-b002-6f7bd68bd87a",
   "metadata": {},
   "source": [
    "## 4. Make A Conclusion"
   ]
  },
  {
   "cell_type": "markdown",
   "id": "052adda4-7aec-477e-a080-216c32b1a913",
   "metadata": {},
   "source": [
    "***T (13.97) > Critical Value (2.0) : REJECT the null hypothesis <br>\n",
    "There is enough claim to reject the null hypothesis and prove that there is a significant difference between the scores of the students before and after using the application*** <br>\n",
    "\n",
    "### : We can conclude that the application is effective in enhancing the students' learning."
   ]
  },
  {
   "cell_type": "code",
   "execution_count": null,
   "id": "678d2e50-68dc-4974-9b80-de3e03fca5a4",
   "metadata": {},
   "outputs": [],
   "source": []
  }
 ],
 "metadata": {
  "kernelspec": {
   "display_name": "Python 3 (ipykernel)",
   "language": "python",
   "name": "python3"
  },
  "language_info": {
   "codemirror_mode": {
    "name": "ipython",
    "version": 3
   },
   "file_extension": ".py",
   "mimetype": "text/x-python",
   "name": "python",
   "nbconvert_exporter": "python",
   "pygments_lexer": "ipython3",
   "version": "3.11.5"
  }
 },
 "nbformat": 4,
 "nbformat_minor": 5
}
