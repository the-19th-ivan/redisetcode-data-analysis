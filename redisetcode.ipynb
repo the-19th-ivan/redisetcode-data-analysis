{
 "cells": [
  {
   "cell_type": "markdown",
   "id": "9532db58-8fcc-4719-9752-8d9e0ab26a59",
   "metadata": {},
   "source": [
    "# RediSetCode: A Gamification of Learning Programming\n",
    "This notebook contains the overall summary of this Thesis project. <br>\n",
    "Please refer to the following for more details: <br>\n",
    "- **Documents:** https://docs.google.com/document/d/1P0vs3ZlZEQyKilVqOQUIcB47d2-XtxvctSz9rSUb_BE/edit?usp=sharing\n",
    "- **Web Application:** https://redisetcode-react.vercel.app/\n",
    "\n",
    "--------------------------------------------------------------------------------------------------------------------"
   ]
  },
  {
   "cell_type": "markdown",
   "id": "e266a311-2023-4f37-9cd7-a5b2b408e5de",
   "metadata": {},
   "source": [
    "## Introduction\n",
    "RediSetCode aims to gamify the process of learning Programming by applying game elements and inspired by fantasy games.<br>\n",
    "It is a web application developed using MERN stack and has the following features:<br>\n",
    "- Characters\n",
    "- Event System\n",
    "- Leveling System\n",
    "- Badges\n",
    "- Story Mode\n",
    "- Code Editor & Compiler\n",
    "- Leaderboard\n",
    "- Quiz\n",
    "\n",
    "The respondents of this thesis project are 1st year BSCS and BSIS students in NCF."
   ]
  },
  {
   "cell_type": "markdown",
   "id": "de3c5cef-55b0-4e2f-a674-83d0d8a9f2ea",
   "metadata": {},
   "source": [
    "## Statement of the Problem\n",
    "This project is anchored to answer the following:\n",
    "\n",
    "1. What are the current methods in teaching Fundamentals of Programming?<br>\n",
    "2. What are the issues encountered in the current system?<br>\n",
    "3. What system may be proposed that will address the problems encountered in the current system?<br>\n",
    "4. What is the level of acceptance of the application in terms of<br>\n",
    "    a. System Usefulness;<br>\n",
    "    b. Information Quality; and<br>\n",
    "    c. Interface Quality?<br>\n"
   ]
  },
  {
   "cell_type": "markdown",
   "id": "ba8f1f7f-3119-4e36-9c0f-82476dcaf705",
   "metadata": {},
   "source": [
    "## Requirements Gathering\n",
    "To answer SOP 1, 2, and 3, the researcher conducted a quantitative multiple choice type of questions. This aims to answer the SOP and at the same time gather information on what features to apply in the application.<br>\n",
    "\n",
    "Here are the results of the conducted survey:\n",
    "- Traditional classroom instruction is the currently teaching method\n",
    "- IDEs and presentations are the tools used in the current teaching method\n",
    "- The students are having a hard time understanding programming concepts and relating it to real life scenarios\n",
    "- The game elements that the respondents prefer are leveling system, badges, and coding exercises\n",
    "\n",
    "For more detailed information, please refer to the figures below."
   ]
  },
  {
   "cell_type": "markdown",
   "id": "4680b14b-9fa2-4c11-ae40-248219697c0e",
   "metadata": {},
   "source": [
    "<div style=\"display: flex; justify-content: space-between;\">\n",
    "    <div style=\"flex: 49%;padding: 10px;\">\n",
    "        <img src=\"1.png\" alt=\"Image 1\">\n",
    "    </div>\n",
    "    <div style=\"flex: 49%;padding: 10px;\">\n",
    "        <img src=\"2.png\" alt=\"Image 2\">\n",
    "    </div>\n",
    "</div>\n",
    "<div style=\"display: flex; justify-content: space-between;\">\n",
    "    <div style=\"flex: 49%;padding: 10px;\">\n",
    "        <img src=\"3.png\" alt=\"Image 1\">\n",
    "    </div>\n",
    "    <div style=\"flex: 49%;padding: 10px;\">\n",
    "        <img src=\"4.png\" alt=\"Image 2\">\n",
    "    </div>\n",
    "</div>\n",
    "<div style=\"display: flex; justify-content: space-between;\">\n",
    "    <div style=\"flex: 49%;padding: 10px;\">\n",
    "        <img src=\"5.png\" alt=\"Image 1\">\n",
    "    </div>\n",
    "    <div style=\"flex: 49%;padding: 10px;\">\n",
    "        <img src=\"6.png\" alt=\"Image 2\">\n",
    "    </div>\n",
    "</div>\n",
    "<div style=\"display: flex; justify-content: space-between;\">\n",
    "    <div style=\"flex: 49%;padding: 10px;\">\n",
    "        <img src=\"7.png\" alt=\"Image 1\">\n",
    "    </div>\n",
    "    <div style=\"flex: 49%;padding: 10px;\">\n",
    "        <img src=\"8.png\" alt=\"Image 2\">\n",
    "    </div>\n",
    "</div>\n",
    "<div style=\"display: flex; justify-content: space-between;\">\n",
    "    <div style=\"flex: 49%;padding: 10px;\">\n",
    "        <img src=\"9.png\" alt=\"Image 1\">\n",
    "    </div>\n",
    "</div>"
   ]
  },
  {
   "cell_type": "markdown",
   "id": "bd4e358e-d1e0-4555-a56e-335d25a95dcb",
   "metadata": {},
   "source": [
    "## RediSetCode\n",
    "You may visit the app through the link:\n",
    "https://redisetcode-react.vercel.app/"
   ]
  },
  {
   "cell_type": "markdown",
   "id": "ceecd4a6-2a7c-47fd-b3eb-797ba264a2b7",
   "metadata": {},
   "source": [
    "## Software Evaluation\n",
    "The application is used and tested by the respondents for 2 weeks. After that, software evaluation is conducted. It is a likert scale type questions that is based on PSSUQ (Post-Study System Usability Questionnaire).\n",
    "\n",
    "The result are the following figure below:"
   ]
  },
  {
   "cell_type": "code",
   "execution_count": 1,
   "id": "68175cf4-1a6f-4a86-a7fb-10fed5acb9b3",
   "metadata": {},
   "outputs": [
    {
     "data": {
      "image/png": "[encoded data removed]",
      "text/plain": [
       "<Figure size 640x480 with 1 Axes>"
      ]
     },
     "metadata": {},
     "output_type": "display_data"
    }
   ],
   "source": [
    "# Import necessary libraries\n",
    "import numpy as np\n",
    "import pandas as pd\n",
    "import matplotlib.pyplot as plt\n",
    "\n",
    "# Get the data from csv\n",
    "df = pd.read_csv(\"data/likert-result.csv\")\n",
    "\n",
    "# Divide into categories\n",
    "overall = df\n",
    "sys_usefulness = df.iloc[:, :5]\n",
    "info_quality = df.iloc[:, 5:10]\n",
    "inter_quality = df.iloc[:, 10:15]\n",
    "\n",
    "# Compute for System Usefulness\n",
    "sys_value = (sys_usefulness.sum() / 60).sum() / 5\n",
    "\n",
    "# Compute for Information Quality\n",
    "info_value = (info_quality.sum() / 60).sum() / 5\n",
    "\n",
    "# Compute for Interface Quality\n",
    "inter_value = (inter_quality.sum() / 60).sum() / 5\n",
    "\n",
    "# Compute for Overall\n",
    "overall_value = (overall.sum() / 60).sum() / 15\n",
    "\n",
    "categories = np.array(['Usefulness', 'Information', 'Interface', 'Overall'])\n",
    "ratings = np.array([sys_value, info_value, inter_value, overall_value])\n",
    "\n",
    "# Plotting\n",
    "fig, ax = plt.subplots()\n",
    "\n",
    "# Creating the bar chart\n",
    "bars = ax.bar(categories, ratings, color='#2b2f47')\n",
    "\n",
    "# Adding a vertical dashed line at rating 3\n",
    "ax.axhline(y=3, color='cyan', linestyle='--', label='Acceptable')\n",
    "\n",
    "# Adding labels\n",
    "ax.set_yticks(np.arange(1, 5))\n",
    "ax.set_yticklabels(['1 (Worst)', '2', '3', '4 (Best)'])\n",
    "ax.set_ylabel('PSSUQ Score')\n",
    "\n",
    "# Adding title\n",
    "plt.title('Software Evaluation Result')\n",
    "\n",
    "# Moving legend outside the plot\n",
    "ax.legend(loc='upper left', bbox_to_anchor=(1, 1))\n",
    "\n",
    "# Show plot (optional, if you also want to display the plot)\n",
    "plt.show()"
   ]
  },
  {
   "cell_type": "markdown",
   "id": "ea1a0905-8bdf-46a2-976e-351a7d18329a",
   "metadata": {},
   "source": [
    "## Paired T-test\n",
    "A paired T-test is also conducted to determine the learning gains of the student and check the difference between the scores of the respondents before and after using the application. A pre-test is conducted before using the appplication and a post-test after using the application.\n",
    "\n",
    "**Null Hypothesis**: There is no significant difference between the scores of the students before and after using the application <br>\n",
    "**Alternative Hypothesis**: There is a significant difference between the scores of the students before and after using the application"
   ]
  },
  {
   "cell_type": "markdown",
   "id": "3eec69df-7cf3-4bf9-b914-6a69c949464b",
   "metadata": {},
   "source": [
    "### Pre-test\n",
    "![Alt text](before.png)\n",
    "\n",
    "### Post-test\n",
    "![Alt text](after.png)"
   ]
  },
  {
   "cell_type": "code",
   "execution_count": 2,
   "id": "3ab7dec1-b51c-42ec-8ace-c1375f62ef8a",
   "metadata": {},
   "outputs": [
    {
     "data": {
      "text/plain": [
       "13.977093405003538"
      ]
     },
     "execution_count": 2,
     "metadata": {},
     "output_type": "execute_result"
    }
   ],
   "source": [
    "# Get the data\n",
    "data = pd.read_csv(\"data/assessment-scores.csv\")\n",
    "\n",
    "# Identify the number of cases\n",
    "n = len(data)\n",
    "\n",
    "# Compute the degrees of freedom\n",
    "df = n - 1\n",
    "\n",
    "# Compute the mean difference\n",
    "mean = data[\"Difference\"].mean()\n",
    "\n",
    "# Compute the standard deviation\n",
    "s = data[\"Difference\"].std()\n",
    "\n",
    "# Compute the standard error of the mean\n",
    "se = s / np.sqrt(n)\n",
    "\n",
    "# Compute the T value\n",
    "t = mean / se\n",
    "\n",
    "t"
   ]
  },
  {
   "cell_type": "markdown",
   "id": "b25c5ddd-a325-4c1f-8aa8-063575df1354",
   "metadata": {},
   "source": [
    "## Compute Significance Level\n",
    "Refer to this Table: <br>\n",
    "![T table](t-table.png)"
   ]
  },
  {
   "cell_type": "markdown",
   "id": "3331bac1-b0d2-4276-b165-eff9e32a9b40",
   "metadata": {},
   "source": [
    "## Conclusion\n",
    "***T (13.97) > Critical Value (2.0) : REJECT the null hypothesis <br>\n",
    "There is enough claim to reject the null hypothesis and prove that there is a significant difference between the scores of the students before and after using the application*** <br>\n",
    "\n",
    "### : We can conclude that the application is effective in enhancing the students' learning.\n",
    "\n",
    "------------------------------------------------------------------------------------------------------------------------------------"
   ]
  },
  {
   "cell_type": "markdown",
   "id": "25189518-2337-4928-a916-176fbdfba159",
   "metadata": {},
   "source": [
    "## Additional Information\n",
    "A **Weighted Random Selection Algorithm** is used in the event system of the application.\n",
    "\n",
    "The algorithm select random event each day based on their probability of occurence. The following event available are the following:\n",
    "- **Normal Day: 75% Probability** - gives programming quotes for motivation\n",
    "- **Bonus Day: 25% Probability** - double the amount of exp earned\n",
    "\n",
    "The Bonus Day will a be great help for other users to increase their rank and overrank other top players as the top players can receive cash prize."
   ]
  },
  {
   "cell_type": "code",
   "execution_count": null,
   "id": "f93eee11-3191-4061-a62d-de100ce38d96",
   "metadata": {},
   "outputs": [],
   "source": []
  }
 ],
 "metadata": {
  "kernelspec": {
   "display_name": "Python 3 (ipykernel)",
   "language": "python",
   "name": "python3"
  },
  "language_info": {
   "codemirror_mode": {
    "name": "ipython",
    "version": 3
   },
   "file_extension": ".py",
   "mimetype": "text/x-python",
   "name": "python",
   "nbconvert_exporter": "python",
   "pygments_lexer": "ipython3",
   "version": "3.11.5"
  }
 },
 "nbformat": 4,
 "nbformat_minor": 5
}
